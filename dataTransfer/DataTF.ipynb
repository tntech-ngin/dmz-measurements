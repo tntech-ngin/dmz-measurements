{
 "cells": [
  {
   "cell_type": "code",
   "execution_count": 2,
   "metadata": {},
   "outputs": [
    {
     "name": "stdout",
     "output_type": "stream",
     "text": [
      "Requirement already satisfied: pandas in /Users/emily/.pyenv/versions/3.9.6/lib/python3.9/site-packages (2.1.2)\n",
      "Requirement already satisfied: numpy<2,>=1.22.4 in /Users/emily/.pyenv/versions/3.9.6/lib/python3.9/site-packages (from pandas) (1.26.1)\n",
      "Requirement already satisfied: tzdata>=2022.1 in /Users/emily/.pyenv/versions/3.9.6/lib/python3.9/site-packages (from pandas) (2023.3)\n",
      "Requirement already satisfied: pytz>=2020.1 in /Users/emily/.pyenv/versions/3.9.6/lib/python3.9/site-packages (from pandas) (2023.3.post1)\n",
      "Requirement already satisfied: python-dateutil>=2.8.2 in /Users/emily/.pyenv/versions/3.9.6/lib/python3.9/site-packages (from pandas) (2.8.2)\n",
      "Requirement already satisfied: six>=1.5 in /Users/emily/.pyenv/versions/3.9.6/lib/python3.9/site-packages (from python-dateutil>=2.8.2->pandas) (1.16.0)\n",
      "\u001b[33mWARNING: You are using pip version 21.1.3; however, version 24.0 is available.\n",
      "You should consider upgrading via the '/Users/emily/.pyenv/versions/3.9.6/bin/python3.9 -m pip install --upgrade pip' command.\u001b[0m\n",
      "Requirement already satisfied: matplotlib in /Users/emily/.pyenv/versions/3.9.6/lib/python3.9/site-packages (3.8.1)\n",
      "Requirement already satisfied: packaging>=20.0 in /Users/emily/.pyenv/versions/3.9.6/lib/python3.9/site-packages (from matplotlib) (21.3)\n",
      "Requirement already satisfied: numpy<2,>=1.21 in /Users/emily/.pyenv/versions/3.9.6/lib/python3.9/site-packages (from matplotlib) (1.26.1)\n",
      "Requirement already satisfied: contourpy>=1.0.1 in /Users/emily/.pyenv/versions/3.9.6/lib/python3.9/site-packages (from matplotlib) (1.2.0)\n",
      "Requirement already satisfied: importlib-resources>=3.2.0 in /Users/emily/.pyenv/versions/3.9.6/lib/python3.9/site-packages (from matplotlib) (6.1.1)\n",
      "Requirement already satisfied: fonttools>=4.22.0 in /Users/emily/.pyenv/versions/3.9.6/lib/python3.9/site-packages (from matplotlib) (4.44.0)\n",
      "Requirement already satisfied: pyparsing>=2.3.1 in /Users/emily/.pyenv/versions/3.9.6/lib/python3.9/site-packages (from matplotlib) (3.0.9)\n",
      "Requirement already satisfied: python-dateutil>=2.7 in /Users/emily/.pyenv/versions/3.9.6/lib/python3.9/site-packages (from matplotlib) (2.8.2)\n",
      "Requirement already satisfied: pillow>=8 in /Users/emily/.pyenv/versions/3.9.6/lib/python3.9/site-packages (from matplotlib) (10.1.0)\n",
      "Requirement already satisfied: kiwisolver>=1.3.1 in /Users/emily/.pyenv/versions/3.9.6/lib/python3.9/site-packages (from matplotlib) (1.4.5)\n",
      "Requirement already satisfied: cycler>=0.10 in /Users/emily/.pyenv/versions/3.9.6/lib/python3.9/site-packages (from matplotlib) (0.12.1)\n",
      "Requirement already satisfied: zipp>=3.1.0 in /Users/emily/.pyenv/versions/3.9.6/lib/python3.9/site-packages (from importlib-resources>=3.2.0->matplotlib) (3.17.0)\n",
      "Requirement already satisfied: six>=1.5 in /Users/emily/.pyenv/versions/3.9.6/lib/python3.9/site-packages (from python-dateutil>=2.7->matplotlib) (1.16.0)\n",
      "\u001b[33mWARNING: You are using pip version 21.1.3; however, version 24.0 is available.\n",
      "You should consider upgrading via the '/Users/emily/.pyenv/versions/3.9.6/bin/python3.9 -m pip install --upgrade pip' command.\u001b[0m\n",
      "Requirement already satisfied: seaborn in /Users/emily/.pyenv/versions/3.9.6/lib/python3.9/site-packages (0.13.0)\n",
      "Requirement already satisfied: numpy!=1.24.0,>=1.20 in /Users/emily/.pyenv/versions/3.9.6/lib/python3.9/site-packages (from seaborn) (1.26.1)\n",
      "Requirement already satisfied: matplotlib!=3.6.1,>=3.3 in /Users/emily/.pyenv/versions/3.9.6/lib/python3.9/site-packages (from seaborn) (3.8.1)\n",
      "Requirement already satisfied: pandas>=1.2 in /Users/emily/.pyenv/versions/3.9.6/lib/python3.9/site-packages (from seaborn) (2.1.2)\n",
      "Requirement already satisfied: cycler>=0.10 in /Users/emily/.pyenv/versions/3.9.6/lib/python3.9/site-packages (from matplotlib!=3.6.1,>=3.3->seaborn) (0.12.1)\n",
      "Requirement already satisfied: importlib-resources>=3.2.0 in /Users/emily/.pyenv/versions/3.9.6/lib/python3.9/site-packages (from matplotlib!=3.6.1,>=3.3->seaborn) (6.1.1)\n",
      "Requirement already satisfied: pyparsing>=2.3.1 in /Users/emily/.pyenv/versions/3.9.6/lib/python3.9/site-packages (from matplotlib!=3.6.1,>=3.3->seaborn) (3.0.9)\n",
      "Requirement already satisfied: pillow>=8 in /Users/emily/.pyenv/versions/3.9.6/lib/python3.9/site-packages (from matplotlib!=3.6.1,>=3.3->seaborn) (10.1.0)\n",
      "Requirement already satisfied: fonttools>=4.22.0 in /Users/emily/.pyenv/versions/3.9.6/lib/python3.9/site-packages (from matplotlib!=3.6.1,>=3.3->seaborn) (4.44.0)\n",
      "Requirement already satisfied: packaging>=20.0 in /Users/emily/.pyenv/versions/3.9.6/lib/python3.9/site-packages (from matplotlib!=3.6.1,>=3.3->seaborn) (21.3)\n",
      "Requirement already satisfied: contourpy>=1.0.1 in /Users/emily/.pyenv/versions/3.9.6/lib/python3.9/site-packages (from matplotlib!=3.6.1,>=3.3->seaborn) (1.2.0)\n",
      "Requirement already satisfied: python-dateutil>=2.7 in /Users/emily/.pyenv/versions/3.9.6/lib/python3.9/site-packages (from matplotlib!=3.6.1,>=3.3->seaborn) (2.8.2)\n",
      "Requirement already satisfied: kiwisolver>=1.3.1 in /Users/emily/.pyenv/versions/3.9.6/lib/python3.9/site-packages (from matplotlib!=3.6.1,>=3.3->seaborn) (1.4.5)\n",
      "Requirement already satisfied: zipp>=3.1.0 in /Users/emily/.pyenv/versions/3.9.6/lib/python3.9/site-packages (from importlib-resources>=3.2.0->matplotlib!=3.6.1,>=3.3->seaborn) (3.17.0)\n",
      "Requirement already satisfied: tzdata>=2022.1 in /Users/emily/.pyenv/versions/3.9.6/lib/python3.9/site-packages (from pandas>=1.2->seaborn) (2023.3)\n",
      "Requirement already satisfied: pytz>=2020.1 in /Users/emily/.pyenv/versions/3.9.6/lib/python3.9/site-packages (from pandas>=1.2->seaborn) (2023.3.post1)\n",
      "Requirement already satisfied: six>=1.5 in /Users/emily/.pyenv/versions/3.9.6/lib/python3.9/site-packages (from python-dateutil>=2.7->matplotlib!=3.6.1,>=3.3->seaborn) (1.16.0)\n",
      "\u001b[33mWARNING: You are using pip version 21.1.3; however, version 24.0 is available.\n",
      "You should consider upgrading via the '/Users/emily/.pyenv/versions/3.9.6/bin/python3.9 -m pip install --upgrade pip' command.\u001b[0m\n",
      "Requirement already satisfied: scapy in /Users/emily/.pyenv/versions/3.9.6/lib/python3.9/site-packages (2.5.0)\n",
      "\u001b[33mWARNING: You are using pip version 21.1.3; however, version 24.0 is available.\n",
      "You should consider upgrading via the '/Users/emily/.pyenv/versions/3.9.6/bin/python3.9 -m pip install --upgrade pip' command.\u001b[0m\n",
      "Requirement already satisfied: pyshark in /Users/emily/.pyenv/versions/3.9.6/lib/python3.9/site-packages (0.6)\n",
      "Requirement already satisfied: termcolor in /Users/emily/.pyenv/versions/3.9.6/lib/python3.9/site-packages (from pyshark) (2.4.0)\n",
      "Requirement already satisfied: packaging in /Users/emily/.pyenv/versions/3.9.6/lib/python3.9/site-packages (from pyshark) (21.3)\n",
      "Requirement already satisfied: lxml in /Users/emily/.pyenv/versions/3.9.6/lib/python3.9/site-packages (from pyshark) (5.1.0)\n",
      "Requirement already satisfied: appdirs in /Users/emily/.pyenv/versions/3.9.6/lib/python3.9/site-packages (from pyshark) (1.4.4)\n",
      "Requirement already satisfied: pyparsing!=3.0.5,>=2.0.2 in /Users/emily/.pyenv/versions/3.9.6/lib/python3.9/site-packages (from packaging->pyshark) (3.0.9)\n",
      "\u001b[33mWARNING: You are using pip version 21.1.3; however, version 24.0 is available.\n",
      "You should consider upgrading via the '/Users/emily/.pyenv/versions/3.9.6/bin/python3.9 -m pip install --upgrade pip' command.\u001b[0m\n"
     ]
    },
    {
     "name": "stderr",
     "output_type": "stream",
     "text": [
      "WARNING: No IPv4 address found on en3 !\n",
      "WARNING: No IPv4 address found on ap1 !\n",
      "WARNING: more No IPv4 address found on awdl0 !\n"
     ]
    }
   ],
   "source": [
    "!pip install pandas\n",
    "!pip install matplotlib\n",
    "!pip install seaborn\n",
    "!pip install scapy\n",
    "!pip install pyshark\n",
    "import seaborn as sns\n",
    "import json\n",
    "import pandas as pd\n",
    "from scapy.all import *\n",
    "import pyshark\n",
    "import matplotlib.pyplot as plt\n",
    "%matplotlib inline\n",
    "import numpy as np\n"
   ]
  },
  {
   "cell_type": "code",
   "execution_count": 3,
   "metadata": {},
   "outputs": [],
   "source": [
    "pd.options.display.max_columns = None #make sure all columns are displayed\n",
    "pd.options.display.max_colwidth = None\n",
    "pd.options.display.max_rows = None\n",
    "\n",
    "sns.set_theme(palette=\"Greys\")"
   ]
  },
  {
   "cell_type": "code",
   "execution_count": 18,
   "metadata": {},
   "outputs": [
    {
     "name": "stdout",
     "output_type": "stream",
     "text": [
      "242261\n"
     ]
    }
   ],
   "source": [
    "files = ['/Users/emily/dtn_pcap/20240220-0800.pcap']\n",
    "\n",
    "def process_packet(packet):\n",
    "    # Check if the packet has IP layer\n",
    "    if IP in packet:\n",
    "        # Extract relevant information\n",
    "        time = packet.time\n",
    "        source = packet[IP].src\n",
    "        destination = packet[IP].dst\n",
    "        protocol = packet[IP].proto\n",
    "        length = len(packet)\n",
    "\n",
    "        #if source == \"128.8.207.141\" or destination == \"128.8.207.141\":\n",
    "\n",
    "        # Add extracted information to the list\n",
    "        packet_info.append({'Time': time, 'Source': source, 'Destination': destination, 'Protocol': protocol, 'Length': length})\n",
    "\n",
    "# Define the list to store packet information\n",
    "packet_info = []\n",
    "\n",
    "# Specify the path to the pcap file\n",
    "pcap_file = 'example.pcap'\n",
    "\n",
    "# Use Scapy's sniff function to read the pcap file and apply the processing function to each packet\n",
    "sniff(offline=files[0], prn=process_packet)\n",
    "\n",
    "# Print the extracted information for each packet\n",
    "# for info in packet_info:\n",
    "#     print(info)\n",
    "\n",
    "\n",
    "\n",
    "print(len(packet_info))\n"
   ]
  }
 ],
 "metadata": {
  "kernelspec": {
   "display_name": "Python 3",
   "language": "python",
   "name": "python3"
  },
  "language_info": {
   "codemirror_mode": {
    "name": "ipython",
    "version": 3
   },
   "file_extension": ".py",
   "mimetype": "text/x-python",
   "name": "python",
   "nbconvert_exporter": "python",
   "pygments_lexer": "ipython3",
   "version": "3.9.6"
  }
 },
 "nbformat": 4,
 "nbformat_minor": 2
}
